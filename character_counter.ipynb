{
 "cells": [
  {
   "cell_type": "code",
   "execution_count": 1,
   "id": "096e2f89-6dfd-4e79-b371-1229b41a45ce",
   "metadata": {},
   "outputs": [
    {
     "name": "stdin",
     "output_type": "stream",
     "text": [
      "Input Text:  njnknk\n"
     ]
    },
    {
     "name": "stdout",
     "output_type": "stream",
     "text": [
      "The character legnth is: 6\n",
      "njnknk \n",
      "\n"
     ]
    },
    {
     "name": "stdin",
     "output_type": "stream",
     "text": [
      "Do you want to play again (yes/no):  no\n"
     ]
    },
    {
     "name": "stdout",
     "output_type": "stream",
     "text": [
      "Thanks for playing\n"
     ]
    }
   ],
   "source": [
    "def character_counter():\n",
    "    user_input = input(\"Input Text: \")\n",
    "    print(f\"The character legnth is: {len(user_input)}\")\n",
    "    if len(user_input) <= 50:\n",
    "        print(f\"{user_input} \\n\")\n",
    "\n",
    "    play_again = input(\"Do you want to play again (yes/no): \")\n",
    "    if play_again.lower() == 'yes' :\n",
    "        character_counter()\n",
    "    else:\n",
    "        print(\"Thanks for playing\")\n",
    "character_counter()"
   ]
  }
 ],
 "metadata": {
  "kernelspec": {
   "display_name": "Python 3 (ipykernel)",
   "language": "python",
   "name": "python3"
  },
  "language_info": {
   "codemirror_mode": {
    "name": "ipython",
    "version": 3
   },
   "file_extension": ".py",
   "mimetype": "text/x-python",
   "name": "python",
   "nbconvert_exporter": "python",
   "pygments_lexer": "ipython3",
   "version": "3.12.7"
  }
 },
 "nbformat": 4,
 "nbformat_minor": 5
}
